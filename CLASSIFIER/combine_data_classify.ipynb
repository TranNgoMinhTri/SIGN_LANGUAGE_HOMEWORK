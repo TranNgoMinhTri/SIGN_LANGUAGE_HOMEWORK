{
 "cells": [
  {
   "cell_type": "code",
   "execution_count": 17,
   "metadata": {},
   "outputs": [],
   "source": [
    "import pandas as pd\n",
    "import numpy as np\n",
    "import cv2\n",
    "import os\n",
    "from pathlib import Path\n",
    "import shutil"
   ]
  },
  {
   "cell_type": "code",
   "execution_count": 12,
   "metadata": {},
   "outputs": [],
   "source": [
    "#resize data collected by Nam to 28x28\n",
    "digits = [\"A\",\"B\",\"C\",\"D\",\"E\",\"F\",\"G\",\"H\",\"I\",\"K\"]\n",
    "for digit in digits:\n",
    "    list_img = os.listdir(\"COLLECT_DATA/\" + str(digit))\n",
    "    folder_path = Path(\"COLLECT_DATA/\"+ str(digit))\n",
    "    for dir in list_img:\n",
    "        img_dir = folder_path/dir\n",
    "        img = cv2.imread(str(img_dir), cv2.IMREAD_GRAYSCALE)\n",
    "        img = cv2.resize(img, (28,28))\n",
    "        cv2.imwrite(str(img_dir), img)"
   ]
  },
  {
   "cell_type": "code",
   "execution_count": 18,
   "metadata": {},
   "outputs": [],
   "source": [
    "#combine data csv with data collected by Nam\n",
    "digits = [\"A\",\"B\",\"C\",\"D\",\"E\",\"F\",\"G\",\"H\",\"I\",\"K\"]\n",
    "for digit in digits:\n",
    "    list_img = os.listdir(\"CLASSIFIER/DATA_KAGGLE/\" + str(digit))\n",
    "    folder_path = Path(\"CLASSIFIER/DATA_KAGGLE/\"+ str(digit))\n",
    "    for dir in list_img:\n",
    "        img_dir = folder_path/dir\n",
    "        shutil.copy(img_dir,\"COLLECT_DATA _COMBINED/\" + str(digit))"
   ]
  }
 ],
 "metadata": {
  "kernelspec": {
   "display_name": "Python 3.10.4 64-bit",
   "language": "python",
   "name": "python3"
  },
  "language_info": {
   "codemirror_mode": {
    "name": "ipython",
    "version": 3
   },
   "file_extension": ".py",
   "mimetype": "text/x-python",
   "name": "python",
   "nbconvert_exporter": "python",
   "pygments_lexer": "ipython3",
   "version": "3.10.4"
  },
  "orig_nbformat": 4,
  "vscode": {
   "interpreter": {
    "hash": "31ca1d8e2757b62ce03346936515128aee50d02fa28a1f28f1e5adb83409ac57"
   }
  }
 },
 "nbformat": 4,
 "nbformat_minor": 2
}
