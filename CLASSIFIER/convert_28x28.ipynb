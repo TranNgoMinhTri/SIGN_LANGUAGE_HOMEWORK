{
 "cells": [
  {
   "cell_type": "code",
   "execution_count": 9,
   "metadata": {},
   "outputs": [],
   "source": [
    "import os\n",
    "import numpy as np\n",
    "import cv2\n",
    "from pathlib import Path"
   ]
  },
  {
   "cell_type": "code",
   "execution_count": 21,
   "metadata": {},
   "outputs": [
    {
     "name": "stdout",
     "output_type": "stream",
     "text": [
      "Number of image: 3000\n"
     ]
    }
   ],
   "source": [
    "list_img = os.listdir(\"DATA_2\\\\asl_alphabet_train\\\\K\")\n",
    "print(\"Number of image:\", len(list_img))\n",
    "for dir in list_img:\n",
    "    img = cv2.imread(\"DATA_2\\\\asl_alphabet_train\\\\K\\\\\"+str(dir), cv2.IMREAD_GRAYSCALE)\n",
    "    img = cv2.resize(img,(28,28))\n",
    "    cv2.imwrite(\"DATA_2\\\\resized_data\\\\K\\\\new_\" +str(dir), img)\n"
   ]
  },
  {
   "cell_type": "code",
   "execution_count": 22,
   "metadata": {},
   "outputs": [
    {
     "name": "stdout",
     "output_type": "stream",
     "text": [
      "Number of image: 2984\n"
     ]
    }
   ],
   "source": [
    "#just for processing \"K\" digit data\n",
    "list_img = os.listdir(\"DATA_2\\\\resized_data\\\\K\")\n",
    "print(\"Number of image:\", len(list_img))\n",
    "for dir in list_img:\n",
    "    img = cv2.imread(\"DATA_2\\\\resized_data\\\\K\\\\\"+str(dir), cv2.IMREAD_GRAYSCALE)\n",
    "    img = cv2.resize(img,(28,28))\n",
    "    cv2.imwrite(\"DATA_2\\\\resized_data\\\\K\\\\new_\" +str(dir), img)"
   ]
  }
 ],
 "metadata": {
  "kernelspec": {
   "display_name": "Python 3.10.4 64-bit",
   "language": "python",
   "name": "python3"
  },
  "language_info": {
   "codemirror_mode": {
    "name": "ipython",
    "version": 3
   },
   "file_extension": ".py",
   "mimetype": "text/x-python",
   "name": "python",
   "nbconvert_exporter": "python",
   "pygments_lexer": "ipython3",
   "version": "3.10.4"
  },
  "orig_nbformat": 4,
  "vscode": {
   "interpreter": {
    "hash": "31ca1d8e2757b62ce03346936515128aee50d02fa28a1f28f1e5adb83409ac57"
   }
  }
 },
 "nbformat": 4,
 "nbformat_minor": 2
}
